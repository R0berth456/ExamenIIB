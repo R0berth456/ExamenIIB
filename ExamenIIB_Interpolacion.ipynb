{
  "nbformat": 4,
  "nbformat_minor": 0,
  "metadata": {
    "colab": {
      "provenance": [],
      "authorship_tag": "ABX9TyNgKe6zzkvZENlAY4pJ23HK",
      "include_colab_link": true
    },
    "kernelspec": {
      "name": "python3",
      "display_name": "Python 3"
    },
    "language_info": {
      "name": "python"
    }
  },
  "cells": [
    {
      "cell_type": "markdown",
      "metadata": {
        "id": "view-in-github",
        "colab_type": "text"
      },
      "source": [
        "<a href=\"https://colab.research.google.com/github/R0berth456/ExamenIIB/blob/main/ExamenIIB_Interpolacion.ipynb\" target=\"_parent\"><img src=\"https://colab.research.google.com/assets/colab-badge.svg\" alt=\"Open In Colab\"/></a>"
      ]
    },
    {
      "cell_type": "markdown",
      "source": [
        "2. Raices"
      ],
      "metadata": {
        "id": "iXE50kZd-dD0"
      }
    },
    {
      "cell_type": "code",
      "execution_count": 24,
      "metadata": {
        "colab": {
          "base_uri": "https://localhost:8080/",
          "height": 628
        },
        "id": "cK-Zz7gk4pX1",
        "outputId": "ff2e9a5d-9ba6-4f98-8877-4e2becb37491"
      },
      "outputs": [
        {
          "output_type": "display_data",
          "data": {
            "text/plain": [
              "<Figure size 640x480 with 1 Axes>"
            ],
            "image/png": "[encoded data removed]"
          },
          "metadata": {}
        },
        {
          "output_type": "stream",
          "name": "stdout",
          "text": [
            "La raíz de la función es: (-2.0,       converged: True\n",
            "           flag: converged\n",
            " function_calls: 13\n",
            "     iterations: 12\n",
            "           root: -2.0\n",
            "         method: secant)\n",
            "La raíz 1 de la función es: -2.0000000000004547\n",
            "La raíz 2 de la función es: 1.0000038146972656\n",
            "La raíz 3 de la función es: 5.0\n"
          ]
        }
      ],
      "source": [
        "import numpy as np\n",
        "import matplotlib.pyplot as plt\n",
        "from scipy import optimize\n",
        "\n",
        "def funcion(x):\n",
        "  return x**5-6*x**4+2*x**3+20*x**2-27*x+10\n",
        "\n",
        "xs = np.linspace(-10, 10, 100)\n",
        "\n",
        "ys = funcion(xs)\n",
        "\n",
        "plt.plot(xs, ys, color='red')\n",
        "plt.ylim(-10, 10)\n",
        "plt.grid(True)\n",
        "plt.xlabel('x')\n",
        "plt.ylabel('y')\n",
        "plt.title('Gráfico de la función')\n",
        "plt.show()\n",
        "\n",
        "raiz1 = optimize.bisect(funcion, -2.5, -1)\n",
        "raiz2 = optimize.bisect(funcion, 0, 2.5)\n",
        "raiz3 = optimize.bisect(funcion, 2.5, 7.5)\n",
        "raiz = optimize.newton(funcion, -5, full_output=True)\n",
        "\n",
        "print(\"La raíz de la función es:\", raiz)\n",
        "print(\"La raíz 1 de la función es:\", raiz1)\n",
        "print(\"La raíz 2 de la función es:\", raiz2)\n",
        "print(\"La raíz 3 de la función es:\", raiz3)"
      ]
    },
    {
      "cell_type": "markdown",
      "source": [
        "3. Interpolacion"
      ],
      "metadata": {
        "id": "hSLtO43Y-kx6"
      }
    },
    {
      "cell_type": "code",
      "source": [
        "def eliminacion_gaussiana(A: np.ndarray) -> np.ndarray:\n",
        "    \"\"\"Resuelve un sistema de ecuaciones lineales mediante el método de eliminación gaussiana.\n",
        "\n",
        "    ## Parameters\n",
        "\n",
        "    ``A``: matriz aumentada del sistema de ecuaciones lineales. Debe ser de tamaño n-by-(n+1), donde n es el número de incógnitas.\n",
        "\n",
        "    ## Return\n",
        "\n",
        "    ``solucion``: vector con la solución del sistema de ecuaciones lineales.\n",
        "\n",
        "    \"\"\"\n",
        "    if not isinstance(A, np.ndarray):\n",
        "        logging.debug(\"Convirtiendo A a numpy array.\")\n",
        "        A = np.array(A)\n",
        "    assert A.shape[0] == A.shape[1] - 1, \"La matriz A debe ser de tamaño n-by-(n+1).\"\n",
        "    n = A.shape[0]\n",
        "\n",
        "    for i in range(0, n - 1):  # loop por columna\n",
        "\n",
        "        # --- encontrar pivote\n",
        "        p = None  # default, first element\n",
        "        for pi in range(i, n):\n",
        "            if A[pi, i] == 0:\n",
        "                # must be nonzero\n",
        "                continue\n",
        "\n",
        "            if p is None:\n",
        "                # first nonzero element\n",
        "                p = pi\n",
        "                continue\n",
        "\n",
        "            if abs(A[pi, i]) < abs(A[p, i]):\n",
        "                p = pi\n",
        "\n",
        "        if p is None:\n",
        "            # no pivot found.\n",
        "            raise ValueError(\"No existe solución única.\")\n",
        "\n",
        "        if p != i:\n",
        "            # swap rows\n",
        "            logging.debug(f\"Intercambiando filas {i} y {p}\")\n",
        "            _aux = A[i, :].copy()\n",
        "            A[i, :] = A[p, :].copy()\n",
        "            A[p, :] = _aux\n",
        "\n",
        "        # --- Eliminación: loop por fila\n",
        "        for j in range(i + 1, n):\n",
        "            m = A[j, i] / A[i, i]\n",
        "            A[j, i:] = A[j, i:] - m * A[i, i:]\n",
        "\n",
        "        logging.info(f\"\\n{A}\")\n",
        "\n",
        "    if A[n - 1, n - 1] == 0:\n",
        "        raise ValueError(\"No existe solución única.\")\n",
        "\n",
        "        print(f\"\\n{A}\")\n",
        "    # --- Sustitución hacia atrás\n",
        "    solucion = np.zeros(n)\n",
        "    solucion[n - 1] = A[n - 1, n] / A[n - 1, n - 1]\n",
        "\n",
        "    for i in range(n - 2, -1, -1):\n",
        "        suma = 0\n",
        "        for j in range(i + 1, n):\n",
        "            suma += A[i, j] * solucion[j]\n",
        "        solucion[i] = (A[i, n] - suma) / A[i, i]\n",
        "\n",
        "    return solucion\n"
      ],
      "metadata": {
        "id": "Y7BFOgcf_ZLR"
      },
      "execution_count": 26,
      "outputs": []
    },
    {
      "cell_type": "code",
      "source": [
        "# -*- coding: utf-8 -*-\n",
        "\n",
        "\n",
        "\"\"\"\n",
        "Python 3\n",
        "17 / 07 / 2024\n",
        "@author: z_tjona\n",
        "\n",
        "\"I find that I don't understand things unless I try to program them.\"\n",
        "-Donald E. Knuth\n",
        "\"\"\"\n",
        "\n",
        "\n",
        "# ----------------------------- logging --------------------------\n",
        "import logging\n",
        "from sys import stdout\n",
        "from datetime import datetime\n",
        "\n",
        "logging.basicConfig(\n",
        "    level=logging.INFO,\n",
        "    format=\"[%(asctime)s][%(levelname)s] %(message)s\",\n",
        "    stream=stdout,\n",
        "    datefmt=\"%m-%d %H:%M:%S\",\n",
        ")\n",
        "logging.info(datetime.now())\n",
        "\n",
        "import numpy as np\n",
        "\n",
        "from typing import Callable\n",
        "\n",
        "\n",
        "\n",
        "# ####################################################################\n",
        "def ajustar_min_cuadrados(\n",
        "    xs: list,\n",
        "    ys: list,\n",
        "    gradiente: list[Callable[[list[float], list[float]], tuple]],\n",
        ") -> None:\n",
        "    \"\"\"Resuelve el sistema de ecuaciones para encontrar los parámetros del método de mínimos cuadrados. Plantea el sistema de ecuaciones lineales al reemplazar los valores de ``xs`` y ``ys`` en las derivadas parciales.\n",
        "\n",
        "    ## Parameters\n",
        "\n",
        "    ``xs``: lista con los valores de x.\n",
        "\n",
        "    ``ys``: lista con los valores de y.\n",
        "\n",
        "    ``fcn``: función que se ajustará a los datos.\n",
        "\n",
        "    ``gradiente``: lista con las funciones de derivadas parciales de ``fcn``.\n",
        "    [IMPORTANTE] Cada función debe ser de la forma ``der_parcial(xi, yi)->``.\n",
        "\n",
        "    ## Return\n",
        "\n",
        "    ``a``:\n",
        "\n",
        "    \"\"\"\n",
        "\n",
        "    assert len(xs) == len(ys), \"xs y ys deben tener la misma longitud.\"\n",
        "\n",
        "    n = len(xs)\n",
        "\n",
        "    num_pars = len(gradiente)\n",
        "    logging.info(f\"Se ajustarán {num_pars} parámetros.\")\n",
        "    # --- construir matriz A y vector b\n",
        "    Ab = np.zeros((num_pars, num_pars + 1), dtype=float)\n",
        "\n",
        "    for i, der_parcial in enumerate(gradiente):\n",
        "        assert callable(der_parcial), \"Cada derivada parcial debe ser una función.\"\n",
        "\n",
        "        Ab[i, :] = der_parcial(xs, ys)\n",
        "\n",
        "    return eliminacion_gaussiana(Ab)"
      ],
      "metadata": {
        "id": "UwaLBAYZ-mom"
      },
      "execution_count": 27,
      "outputs": []
    },
    {
      "cell_type": "code",
      "source": [
        "# Derivadas parciales\n",
        "# ####################################################################\n",
        "def der_parcial_1(xs: list, ys: list) -> tuple[float, float, float]:\n",
        "    \"\"\"Retorna los coeficientes de la ecuación de la derivada parcial con respecto al parámetro 1 al reemplazar los valores ``xs`` y ``ys``. La ecuación es de la forma:\n",
        "    c_1 * a_1 + c_0 * a_0 = c_ind\n",
        "\n",
        "\n",
        "    ## Parameters\n",
        "\n",
        "    ``xs``: lista de valores de x.\n",
        "\n",
        "    ``ys``: lista de valores de y.\n",
        "\n",
        "    ## Return\n",
        "\n",
        "    ``c_1``: coeficiente del parámetro 1.\n",
        "\n",
        "    ``c_0``: coeficiente del parámetro 0.\n",
        "\n",
        "    ``c_ind``: coeficiente del término independiente.\n",
        "\n",
        "    \"\"\"\n",
        "    c_0 = sum(xs)\n",
        "    c_ind = sum([x*y for x, y in zip(xs, ys)])\n",
        "    c_1 = sum([x**2 for x in xs])\n",
        "\n",
        "\n",
        "    return (c_1, c_0, c_ind)\n",
        "\n",
        "\n",
        "def der_parcial_0(xs: list, ys: list) -> tuple[float, float, float]:\n",
        "    \"\"\"Retorna los coeficientes de la ecuación de la derivada parcial con respecto al parámetro 0 al reemplazar los valores ``xs`` y ``ys``. La ecuación es de la forma:\n",
        "    c_1 * a_1 + c_0 * a_0 = c_ind\n",
        "\n",
        "\n",
        "    ## Parameters\n",
        "\n",
        "    ``xs``: lista de valores de x.\n",
        "\n",
        "    ``ys``: lista de valores de y.\n",
        "\n",
        "    ## Return\n",
        "\n",
        "    ``c_1``: coeficiente del parámetro 1.\n",
        "\n",
        "    ``c_0``: coeficiente del parámetro 0.\n",
        "\n",
        "    ``c_ind``: coeficiente del término independiente.\n",
        "\n",
        "    \"\"\"\n",
        "    c_ind = sum(ys)\n",
        "    c_1 = sum(xs)\n",
        "    c_0 = len(xs)\n",
        "    return (c_1, c_0, c_ind)\n"
      ],
      "metadata": {
        "id": "5W_g44Si_iY3"
      },
      "execution_count": 29,
      "outputs": []
    },
    {
      "cell_type": "code",
      "source": [
        "def der_parcial_0_parabol(xs: list, ys: list) -> tuple[float, float, float]:\n",
        "    \"\"\"Retorna los coeficientes de la ecuación de la derivada parcial con respecto al parámetro 0 al reemplazar los valores ``xs`` y ``ys``. La ecuación es de la forma:\n",
        "    c_2 * a_2 + c_1 * a_1 + c_0 * a_0 = c_ind    ## Parameters\n",
        "\n",
        "    ``xs``: lista de valores de x.\n",
        "\n",
        "    ``ys``: lista de valores de y.\n",
        "\n",
        "    ## Return\n",
        "\n",
        "    ``c_2``: coeficiente del parámetro 2.\n",
        "\n",
        "    ``c_1``: coeficiente del parámetro 1.\n",
        "\n",
        "    ``c_0``: coeficiente del parámetro 0.\n",
        "\n",
        "    ``c_ind``: coeficiente del término independiente.\n",
        "\n",
        "    \"\"\"\n",
        "    c_ind = sum([x**2*y for x, y in zip(xs, ys)])\n",
        "    c_0 = sum([x**4 for x in xs])\n",
        "    c_1 = sum([x**3 for x in xs])\n",
        "    c_2 = sum([x**2 for x in xs])\n",
        "\n",
        "\n",
        "    return (c_2, c_1, c_0, c_ind)\n",
        "\n",
        "\n",
        "# ####################################################################\n",
        "def der_parcial_1_parabol(xs: list, ys: list) -> tuple[float, float, float]:\n",
        "    \"\"\"Retorna los coeficientes de la ecuación de la derivada parcial con respecto al parámetro 1 al reemplazar los valores ``xs`` y ``ys``. La ecuación es de la forma:\n",
        "    c_2 * a_2 + c_1 * a_1 + c_0 * a_0 = c_ind    ## Parameters\n",
        "\n",
        "    ``xs``: lista de valores de x.\n",
        "\n",
        "    ``ys``: lista de valores de y.\n",
        "\n",
        "    ## Return\n",
        "\n",
        "    ``c_2``: coeficiente del parámetro 2.\n",
        "\n",
        "    ``c_1``: coeficiente del parámetro 1.\n",
        "\n",
        "    ``c_0``: coeficiente del parámetro 0.\n",
        "\n",
        "    ``c_ind``: coeficiente del término independiente.\n",
        "\n",
        "    \"\"\"\n",
        "    c_ind = sum([y * x for x, y in zip(xs, ys)])\n",
        "    c_0 = sum([x**3 for x in xs])\n",
        "    c_1 = sum([x**2 for x in xs])\n",
        "    c_2 = sum(xs)\n",
        "\n",
        "\n",
        "    return (c_2, c_1, c_0, c_ind)\n",
        "\n",
        "\n",
        "# ####################################################################\n",
        "def der_parcial_2_parabol(xs: list, ys: list) -> tuple[float, float, float]:\n",
        "    \"\"\"Retorna los coeficientes de la ecuación de la derivada parcial con respecto al parámetro 2 al reemplazar los valores ``xs`` y ``ys``. La ecuación es de la forma:    c_2 * a_2 + c_1 * a_1 + c_0 * a_0 = c_ind\n",
        "\n",
        "    ## Parameters\n",
        "    ``xs``: lista de valores de x.\n",
        "    ``ys``: lista de valores de y.\n",
        "    ## Return\n",
        "    ``c_2``: coeficiente del parámetro 2.\n",
        "    ``c_1``: coeficiente del parámetro 1.\n",
        "    ``c_0``: coeficiente del parámetro 0.\n",
        "    ``c_ind``: coeficiente del término independiente.\n",
        "    \"\"\"\n",
        "\n",
        "    c_ind = sum(ys)\n",
        "    c_0 = sum([x**2 for x in xs])\n",
        "    c_1 = sum(xs)\n",
        "    c_2 = len(xs)\n",
        "\n",
        "\n",
        "    return (c_2, c_1, c_0, c_ind)\n",
        "    return (c_2, c_1, c_0, c_ind)"
      ],
      "metadata": {
        "id": "qxrSzyGPFiKl"
      },
      "execution_count": 35,
      "outputs": []
    },
    {
      "cell_type": "markdown",
      "source": [
        "Conjunto de Datos"
      ],
      "metadata": {
        "id": "6rEawTZHEO95"
      }
    },
    {
      "cell_type": "code",
      "source": [
        "xs = [\n",
        "    1.1715,\n",
        "    1.3396,\n",
        "    1.4163,\n",
        "    1.9962,\n",
        "    2.2523,\n",
        "    2.2947,\n",
        "    2.5793,\n",
        "    2.7054,\n",
        "    2.7635,\n",
        "    2.8200,\n",
        "    3.0317,\n",
        "    3.5111,\n",
        "    3.5393,\n",
        "    3.9829,\n",
        "    4.0323,\n",
        "    4.1353,\n",
        "    4.2084,\n",
        "    4.4683,\n",
        "    4.6509,\n",
        "    4.7489,\n",
        "]\n",
        "\n",
        "\n",
        "ys = [\n",
        "    1.1902,\n",
        "    0.9564,\n",
        "    0.6078,\n",
        "    -0.0856,\n",
        "    -0.3550,\n",
        "    0.1355,\n",
        "    -0.3171,\n",
        "    -0.3425,\n",
        "    -0.3758,\n",
        "    -0.1518,\n",
        "    -0.2767,\n",
        "    0.6251,\n",
        "    0.6447,\n",
        "    2.2733,\n",
        "    2.1789,\n",
        "    2.6781,\n",
        "    2.3818,\n",
        "    3.3786,\n",
        "    4.4971,\n",
        "    5.1431,\n",
        "]"
      ],
      "metadata": {
        "id": "3UBocMu_EQoQ"
      },
      "execution_count": 30,
      "outputs": []
    },
    {
      "cell_type": "code",
      "source": [
        "pars = ajustar_min_cuadrados(xs, ys, gradiente=[der_parcial_0, der_parcial_1])\n",
        "def linea(x: float, pars: tuple[float]) -> float:\n",
        "    \"\"\"Ecuación de la recta y = a1 * x + a0.\n",
        "\n",
        "    ## Parameters\n",
        "\n",
        "    ``x``: valor de x.\n",
        "\n",
        "    ``pars``: parámetros de la recta. Deben ser de la forma (a1, a0).\n",
        "\n",
        "    ## Return\n",
        "\n",
        "    ``y``: valor de y.\n",
        "\n",
        "    \"\"\"\n",
        "    a1, a0 = pars\n",
        "    return a1 * x + a0"
      ],
      "metadata": {
        "id": "IYUdnTDNEVMw"
      },
      "execution_count": 32,
      "outputs": []
    },
    {
      "cell_type": "code",
      "source": [
        "def cuadratica(x: float, pars: tuple[float]) -> float:\n",
        "    a2, a1, a0 = pars\n",
        "    return a2 * x**2 + a1 * x + a0"
      ],
      "metadata": {
        "id": "gy7hjFT8HTag"
      },
      "execution_count": 36,
      "outputs": []
    },
    {
      "cell_type": "code",
      "source": [
        "pars_cuad = ajustar_min_cuadrados(xs,ys,gradiente=[der_parcial_0_parabol, der_parcial_1_parabol, der_parcial_2_parabol])"
      ],
      "metadata": {
        "id": "XeIonaGoHZHu"
      },
      "execution_count": 37,
      "outputs": []
    },
    {
      "cell_type": "code",
      "source": [
        "import matplotlib.pyplot as plt\n",
        "\n",
        "plt.scatter(xs, ys)\n",
        "plt.plot(xs, [linea(x, pars) for x in xs], color=\"red\")\n",
        "plt.plot(xs, [cuadratica(x, pars_cuad) for x in xs], color=\"green\")\n",
        "plt.xlabel(\"x\")\n",
        "plt.ylabel(\"y\")\n",
        "plt.title(\"Conjunto de datos 1\")\n",
        "plt.show()"
      ],
      "metadata": {
        "colab": {
          "base_uri": "https://localhost:8080/",
          "height": 472
        },
        "id": "SC0lOqVZEj2W",
        "outputId": "01bb22ad-0e1e-4f8f-9c50-cff8db552963"
      },
      "execution_count": 41,
      "outputs": [
        {
          "output_type": "display_data",
          "data": {
            "text/plain": [
              "<Figure size 640x480 with 1 Axes>"
            ],
            "image/png": "[encoded data removed]"
          },
          "metadata": {}
        }
      ]
    },
    {
      "cell_type": "markdown",
      "source": [],
      "metadata": {
        "id": "1JbX5VY6JmTe"
      }
    },
    {
      "cell_type": "code",
      "source": [
        "#Calculo del error relativo lineal\n",
        "error_relativo = []\n",
        "for i in range(len(xs)):\n",
        "    error_relativo.append(abs((ys[i] - linea(xs[i], pars)) / ys[i]))\n",
        "\n",
        "total = sum(error_relativo)/len(error_relativo)\n",
        "print(total)"
      ],
      "metadata": {
        "colab": {
          "base_uri": "https://localhost:8080/"
        },
        "id": "MLV36l4wH9E9",
        "outputId": "e35e7b38-7486-4437-db8c-babbadec3248"
      },
      "execution_count": 42,
      "outputs": [
        {
          "output_type": "stream",
          "name": "stdout",
          "text": [
            "1.8948678846046576\n"
          ]
        }
      ]
    },
    {
      "cell_type": "code",
      "source": [
        "#calculo del error relativo cuadratico\n",
        "error_relativo_cuadratico = []\n",
        "for i in range(len(xs)):\n",
        "    error_relativo_cuadratico.append(abs((ys[i] - cuadratica(xs[i], pars_cuad)) / ys[i]))\n",
        "\n",
        "total_cuadratico = sum(error_relativo_cuadratico)/len(error_relativo_cuadratico)\n",
        "print(total_cuadratico)"
      ],
      "metadata": {
        "colab": {
          "base_uri": "https://localhost:8080/"
        },
        "id": "6sPWkjIlIp6T",
        "outputId": "d69f3145-4f61-43ad-fd11-8cf2d9a0e290"
      },
      "execution_count": 45,
      "outputs": [
        {
          "output_type": "stream",
          "name": "stdout",
          "text": [
            "67.44869699142953\n"
          ]
        }
      ]
    }
  ]
}